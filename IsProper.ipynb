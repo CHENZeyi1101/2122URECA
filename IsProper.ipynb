{
 "cells": [
  {
   "cell_type": "code",
   "execution_count": null,
   "id": "870cd3e2",
   "metadata": {},
   "outputs": [],
   "source": [
    "import numpy.matlib;\n",
    "import numpy as np;\n",
    "import networkx as nx;\n",
    "import matplotlib.pyplot as plt;\n",
    "import random\n",
    "import copy"
   ]
  },
  {
   "cell_type": "code",
   "execution_count": null,
   "id": "e4c7fd32",
   "metadata": {},
   "outputs": [],
   "source": [
    "def isProper(A, L):\n",
    "    isProper = 1;\n",
    "    for i in range(len(A)):\n",
    "        for j in range(i):\n",
    "            if A[i][j] == 1:\n",
    "                if L[i] == L[j]:\n",
    "                    isProper = 0;\n",
    "                    break;\n",
    "                else:\n",
    "                    pass;\n",
    "            else:\n",
    "                pass;\n",
    "    return isProper"
   ]
  }
 ],
 "metadata": {
  "kernelspec": {
   "display_name": "Python 3 (ipykernel)",
   "language": "python",
   "name": "python3"
  },
  "language_info": {
   "codemirror_mode": {
    "name": "ipython",
    "version": 3
   },
   "file_extension": ".py",
   "mimetype": "text/x-python",
   "name": "python",
   "nbconvert_exporter": "python",
   "pygments_lexer": "ipython3",
   "version": "3.9.7"
  }
 },
 "nbformat": 4,
 "nbformat_minor": 5
}
