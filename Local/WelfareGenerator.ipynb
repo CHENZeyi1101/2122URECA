{
 "cells": [
  {
   "cell_type": "code",
   "execution_count": null,
   "id": "fc5494ee",
   "metadata": {},
   "outputs": [],
   "source": [
    "import numpy.matlib;\n",
    "import numpy as np;\n",
    "import networkx as nx;\n",
    "import matplotlib.pyplot as plt;\n",
    "import random\n",
    "import copy"
   ]
  },
  {
   "cell_type": "code",
   "execution_count": null,
   "id": "9cea6307",
   "metadata": {},
   "outputs": [],
   "source": [
    "def welfare(A_0, X_0, L_0): \n",
    "    \n",
    "    welfare = [0] * 1000;\n",
    "    \n",
    "    for k in range(1000):\n",
    "        print(\"k = \", k);\n",
    "        score = [0];\n",
    "        score_curr = 0;\n",
    "        new_network = NetworkReduction(A_0, X_0, L_0);\n",
    "        #print(new_network[2]);\n",
    "\n",
    "        while len(new_network[0]) > 1:\n",
    "\n",
    "            A = new_network[0];\n",
    "            #print(\"A: \", A);\n",
    "            #print(\"tyoe of A: \", type(A));\n",
    "            X = new_network[1];\n",
    "            #print(\"X: \", len(X));\n",
    "            #print(\"tyoe of X: \", type(X));\n",
    "            L = new_network[2];\n",
    "            #print(\"L: \", L)\n",
    "            #print(\"tyoe of L: \", type(L));\n",
    "            avaicolorlist = new_network[3];\n",
    "            payoff = new_network[4];\n",
    "            score_curr = score_curr + payoff;\n",
    "            score.append(score_curr);\n",
    "            #print(\"score = \", score);\n",
    "            L_new = Metropolis(A, L, avaicolorlist, 1000);\n",
    "            #print(L_new);\n",
    "            #size = len(A);\n",
    "            new_network = NetworkReduction(A, X, L_new);\n",
    "\n",
    "        welfare[k] = score_curr;\n",
    "    \n",
    "    return welfare;"
   ]
  }
 ],
 "metadata": {
  "kernelspec": {
   "display_name": "Python 3 (ipykernel)",
   "language": "python",
   "name": "python3"
  },
  "language_info": {
   "codemirror_mode": {
    "name": "ipython",
    "version": 3
   },
   "file_extension": ".py",
   "mimetype": "text/x-python",
   "name": "python",
   "nbconvert_exporter": "python",
   "pygments_lexer": "ipython3",
   "version": "3.9.7"
  }
 },
 "nbformat": 4,
 "nbformat_minor": 5
}
