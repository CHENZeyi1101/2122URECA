{
 "cells": [
  {
   "cell_type": "code",
   "execution_count": 9,
   "id": "9cb85f7b",
   "metadata": {},
   "outputs": [],
   "source": [
    "import numpy.matlib;\n",
    "import numpy as np;\n",
    "import networkx as nx;\n",
    "import matplotlib.pyplot as plt;\n",
    "import random\n",
    "import copy"
   ]
  },
  {
   "cell_type": "code",
   "execution_count": null,
   "id": "fd17017e",
   "metadata": {},
   "outputs": [],
   "source": [
    "def Metropolis(A, L_0, avaicolorlist, m):\n",
    "    L = [0]*(m + 1);\n",
    "    L[0] = L_0;\n",
    "    C = avaicolorlist;\n",
    "    n = len(A);\n",
    "    for step in range(m):\n",
    "        #print(\"L[step] = \", L[step]);\n",
    "        X = L[step].copy();\n",
    "        V_1 = random.choice(list(range(n)));\n",
    "        #print(\"V_1 = \", V_1);\n",
    "        V_2 = random.choice(C[V_1]);\n",
    "        #print(\"V_2 = \", V_2);\n",
    "        X[V_1] = V_2;\n",
    "        #print(\"X = \", X);\n",
    "        #print(\"L[step] = \", L[step]);\n",
    "        q = 1/(n * len(C[V_1]));\n",
    "        p = isProper(A, X) * q;\n",
    "        #print(\"p = \", p);\n",
    "        U = np.random.uniform(0, 1);\n",
    "        #print(\"U = \", U);\n",
    "        if U < p:\n",
    "            L[step + 1] = X;\n",
    "        else:\n",
    "            L[step + 1] = L[step];\n",
    "        #print(\"L[step + 1] = \", L[step + 1]);\n",
    "        \n",
    "    \n",
    "    return L[m];"
   ]
  }
 ],
 "metadata": {
  "kernelspec": {
   "display_name": "Python 3 (ipykernel)",
   "language": "python",
   "name": "python3"
  },
  "language_info": {
   "codemirror_mode": {
    "name": "ipython",
    "version": 3
   },
   "file_extension": ".py",
   "mimetype": "text/x-python",
   "name": "python",
   "nbconvert_exporter": "python",
   "pygments_lexer": "ipython3",
   "version": "3.9.7"
  }
 },
 "nbformat": 4,
 "nbformat_minor": 5
}
