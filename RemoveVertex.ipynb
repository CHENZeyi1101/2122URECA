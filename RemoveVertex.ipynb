{
 "cells": [
  {
   "cell_type": "code",
   "execution_count": null,
   "id": "0504c37d",
   "metadata": {},
   "outputs": [],
   "source": [
    "import numpy.matlib;\n",
    "import numpy as np;\n",
    "import networkx as nx;\n",
    "import matplotlib.pyplot as plt;\n",
    "import random\n",
    "import copy"
   ]
  },
  {
   "cell_type": "code",
   "execution_count": null,
   "id": "0bcd78d8",
   "metadata": {},
   "outputs": [],
   "source": [
    "def RemoveVertex(A, x):\n",
    "    while x < len(A) - 1:\n",
    "        for i in range(len(A)):\n",
    "            A[x][i] = A[x + 1][i];\n",
    "        for j in range(len(A)):\n",
    "            A[j][x] = A[j][x + 1];\n",
    "        x = x + 1;\n",
    "    \n",
    "    A = A[:-1, :-1];\n",
    "    return A;"
   ]
  }
 ],
 "metadata": {
  "kernelspec": {
   "display_name": "Python 3 (ipykernel)",
   "language": "python",
   "name": "python3"
  },
  "language_info": {
   "codemirror_mode": {
    "name": "ipython",
    "version": 3
   },
   "file_extension": ".py",
   "mimetype": "text/x-python",
   "name": "python",
   "nbconvert_exporter": "python",
   "pygments_lexer": "ipython3",
   "version": "3.9.7"
  }
 },
 "nbformat": 4,
 "nbformat_minor": 5
}
