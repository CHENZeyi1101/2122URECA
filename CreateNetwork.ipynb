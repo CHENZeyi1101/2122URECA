{
 "cells": [
  {
   "cell_type": "code",
   "execution_count": null,
   "id": "68a2c93d",
   "metadata": {},
   "outputs": [],
   "source": [
    "import numpy.matlib;\n",
    "import numpy as np;\n",
    "import networkx as nx;\n",
    "import matplotlib.pyplot as plt;\n",
    "import random\n",
    "import copy"
   ]
  },
  {
   "cell_type": "code",
   "execution_count": null,
   "id": "b2533a94",
   "metadata": {},
   "outputs": [],
   "source": [
    "def Create_Network (n):\n",
    "    \n",
    "    G = nx.erdos_renyi_graph(n,0.3, seed = 1);\n",
    "    degrees = [val for (node, val) in G.degree()];\n",
    "    delta = max(degrees);\n",
    "    A_0 = np.asarray(nx.to_numpy_matrix(G));\n",
    "    A = A_0[:];\n",
    "    print(degrees);\n",
    "    print(delta);\n",
    "    print(A);\n",
    "    #print(nx.to_numpy_matrix(G));\n",
    "    nx.draw(G, with_labels=True);\n",
    "    plt.savefig('network.png', bbox_inches='tight');\n",
    "    plt.show();\n",
    "    \n",
    "    return A_0, delta;"
   ]
  }
 ],
 "metadata": {
  "kernelspec": {
   "display_name": "Python 3 (ipykernel)",
   "language": "python",
   "name": "python3"
  },
  "language_info": {
   "codemirror_mode": {
    "name": "ipython",
    "version": 3
   },
   "file_extension": ".py",
   "mimetype": "text/x-python",
   "name": "python",
   "nbconvert_exporter": "python",
   "pygments_lexer": "ipython3",
   "version": "3.9.7"
  }
 },
 "nbformat": 4,
 "nbformat_minor": 5
}
