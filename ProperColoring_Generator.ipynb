{
 "cells": [
  {
   "cell_type": "code",
   "execution_count": null,
   "id": "fa56516a",
   "metadata": {},
   "outputs": [],
   "source": [
    "import numpy.matlib;\n",
    "import numpy as np;\n",
    "import networkx as nx;\n",
    "import matplotlib.pyplot as plt;\n",
    "import random\n",
    "import copy"
   ]
  },
  {
   "cell_type": "code",
   "execution_count": null,
   "id": "788442ee",
   "metadata": {},
   "outputs": [],
   "source": [
    "def Proper_coloring (M, q):\n",
    "    M = M.tolist();\n",
    "    options = [];\n",
    "    for k in range(len(M)):\n",
    "        options.append(list(range(q)));\n",
    "    color_assignment = [0] * len(M);\n",
    "    #print(color_set);\n",
    "    #print(len(options[50]));\n",
    "    #print(color_assignment);\n",
    "    i = 0\n",
    "    while i < len(M):\n",
    "        #print(\"i = \", i);\n",
    "        for j in range(i + 1):\n",
    "            if (M[i][j] == 1) and (color_assignment[j] in options[i]):\n",
    "                \n",
    "                options[i].remove(color_assignment[j]);\n",
    "                #print(\"conflict vertex = \",j);\n",
    "            else:\n",
    "                pass;\n",
    "        #print(\"options of \", i,\"are \", options[i]);\n",
    "        color_assignment[i] = random.choice(options[i]);\n",
    "        #print(\"color assignment: \", color_assignment);\n",
    "        i += 1;\n",
    "        \n",
    "    return color_assignment"
   ]
  }
 ],
 "metadata": {
  "kernelspec": {
   "display_name": "Python 3 (ipykernel)",
   "language": "python",
   "name": "python3"
  },
  "language_info": {
   "codemirror_mode": {
    "name": "ipython",
    "version": 3
   },
   "file_extension": ".py",
   "mimetype": "text/x-python",
   "name": "python",
   "nbconvert_exporter": "python",
   "pygments_lexer": "ipython3",
   "version": "3.9.7"
  }
 },
 "nbformat": 4,
 "nbformat_minor": 5
}
