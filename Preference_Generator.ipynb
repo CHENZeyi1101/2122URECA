{
 "cells": [
  {
   "cell_type": "code",
   "execution_count": null,
   "id": "7b122dfe",
   "metadata": {},
   "outputs": [],
   "source": [
    "import numpy.matlib;\n",
    "import numpy as np;\n",
    "import networkx as nx;\n",
    "import matplotlib.pyplot as plt;\n",
    "import random\n",
    "import copy"
   ]
  },
  {
   "cell_type": "code",
   "execution_count": null,
   "id": "04a4f81a",
   "metadata": {},
   "outputs": [],
   "source": [
    "def Preference_Generator (M, q):\n",
    "    X = [];\n",
    "    for i in range(len(M)):\n",
    "        X.append(np.random.permutation(q).tolist());\n",
    "    X_preference = X.copy();\n",
    "\n",
    "    return X_preference;"
   ]
  }
 ],
 "metadata": {
  "kernelspec": {
   "display_name": "Python 3 (ipykernel)",
   "language": "python",
   "name": "python3"
  },
  "language_info": {
   "codemirror_mode": {
    "name": "ipython",
    "version": 3
   },
   "file_extension": ".py",
   "mimetype": "text/x-python",
   "name": "python",
   "nbconvert_exporter": "python",
   "pygments_lexer": "ipython3",
   "version": "3.9.7"
  }
 },
 "nbformat": 4,
 "nbformat_minor": 5
}
