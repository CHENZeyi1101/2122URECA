{
 "cells": [
  {
   "cell_type": "code",
   "execution_count": 490,
   "id": "99fd701c",
   "metadata": {},
   "outputs": [],
   "source": [
    "import numpy.matlib;\n",
    "import numpy as np;\n",
    "import networkx as nx;\n",
    "import matplotlib.pyplot as plt;\n",
    "import random\n",
    "import copy"
   ]
  },
  {
   "cell_type": "code",
   "execution_count": 566,
   "id": "aaf0a15a",
   "metadata": {},
   "outputs": [],
   "source": [
    "import math"
   ]
  },
  {
   "cell_type": "code",
   "execution_count": 734,
   "id": "e6deea35",
   "metadata": {},
   "outputs": [],
   "source": [
    "def welfare_h(q, X, L):\n",
    "    n = len(L);\n",
    "    idx = 0;\n",
    "    for k in range(n):\n",
    "        idx = idx + X[k].index(L[k]);\n",
    "    welfare = (q - 1)*n - idx;\n",
    "    \n",
    "    return welfare"
   ]
  },
  {
   "cell_type": "code",
   "execution_count": 837,
   "id": "bf0bc814",
   "metadata": {},
   "outputs": [],
   "source": [
    "def SA1(A_0, X_0, L_0, q, m):\n",
    "    L = [0]*(m + 1);\n",
    "    L[0] = L_0;\n",
    "    n = len(A_0);\n",
    "    #print(L[0])\n",
    "    \n",
    "    C = [];\n",
    "    for i in range(n):\n",
    "        index = X_0[i].index(L_0[i]);\n",
    "        C.append(X_0[i][:index + 1]);\n",
    "    #print(C);\n",
    "    \n",
    "    welfare = [welfare_h(q, X_0, L[0])];\n",
    "    \n",
    "    for t in range(m):\n",
    "        \n",
    "        #print(L[t]);\n",
    "        #print(h(q, X_0, L[t]));\n",
    "        lambda_t = math.log(1 + t);\n",
    "        x = L[t].copy();\n",
    "        \n",
    "        V_1 = random.choice(list(range(n)));\n",
    "        V_2 = random.choice(C[V_1]);\n",
    "        size = len(C[V_1]);\n",
    "        x[V_1] = V_2;\n",
    "        #print(\"x = \", x);\n",
    "        \n",
    "        h_1 = welfare_h(q, X_0, L[t]);\n",
    "        #print(\"h_1 = \", h_1);\n",
    "        h_2 = welfare_h(q, X_0, x);\n",
    "        #print(\"h_2 = \", h_2);\n",
    "        \n",
    "        alpha = isProper(A_0, x) * np.exp(lambda_t*h_2)/np.exp(lambda_t*h_1);\n",
    "        #print(\"alpha = \", alpha);\n",
    "        \n",
    "        r = min(1, alpha);\n",
    "        \n",
    "        Q = 1/(n * size);\n",
    "        P = Q*r;\n",
    "        \n",
    "        U = np.random.uniform(0, 1);\n",
    "        \n",
    "        if U < P:\n",
    "            L[t + 1] = x;\n",
    "        else:\n",
    "            L[t + 1] = L[t].copy();\n",
    "        #print(L[t + 1]);\n",
    "        \n",
    "        welfare.append(welfare_h(q, X_0, L[t]));\n",
    "        \n",
    "    \n",
    "    #L_1 = L[m];\n",
    "    \n",
    "            \n",
    "    return L, welfare\n",
    "        \n"
   ]
  },
  {
   "cell_type": "code",
   "execution_count": 847,
   "id": "a4bdbef5",
   "metadata": {},
   "outputs": [],
   "source": [
    "def SA2(A_0, X_0, L_0, q, m):\n",
    "    L = [0]*(m + 1);\n",
    "    L[0] = L_0;\n",
    "    n = len(A_0);\n",
    "    #print(L[0])\n",
    "    \n",
    "    C = [];\n",
    "    for i in range(n):\n",
    "        index = X_0[i].index(L_0[i]);\n",
    "        C.append(X_0[i][:index + 1]);\n",
    "    #print(C);\n",
    "    \n",
    "    welfare = [welfare_h(q, X_0, L[0])];\n",
    "    \n",
    "    for t in range(m):\n",
    "        \n",
    "        #print(L[t]);\n",
    "        #print(h(q, X_0, L[t]));\n",
    "        lambda_t = t;\n",
    "        x = L[t].copy();\n",
    "        \n",
    "        V_1 = random.choice(list(range(n)));\n",
    "        V_2 = random.choice(C[V_1]);\n",
    "        size = len(C[V_1]);\n",
    "        x[V_1] = V_2;\n",
    "        #print(\"x = \", x);\n",
    "        \n",
    "        h_1 = welfare_h(q, X_0, L[t]);\n",
    "        #print(\"h_1 = \", h_1);\n",
    "        h_2 = welfare_h(q, X_0, x);\n",
    "        #print(\"h_2 = \", h_2);\n",
    "        \n",
    "        alpha = isProper(A_0, x) * np.exp(lambda_t*h_2)/np.exp(lambda_t*h_1);\n",
    "        #print(\"alpha = \", alpha);\n",
    "        \n",
    "        r = min(1, alpha);\n",
    "        \n",
    "        Q = 1/(n * size);\n",
    "        P = Q*r;\n",
    "        \n",
    "        U = np.random.uniform(0, 1);\n",
    "        \n",
    "        if U < P:\n",
    "            L[t + 1] = x;\n",
    "        else:\n",
    "            L[t + 1] = L[t].copy();\n",
    "        #print(L[t + 1]);\n",
    "        \n",
    "        welfare.append(welfare_h(q, X_0, L[t]));\n",
    "        \n",
    "    \n",
    "    #L_1 = L[m];\n",
    "    \n",
    "            \n",
    "    return L, welfare\n",
    "        \n"
   ]
  },
  {
   "cell_type": "code",
   "execution_count": 821,
   "id": "3128461e",
   "metadata": {},
   "outputs": [],
   "source": [
    "def SA3(A_0, X_0, L_0, q, m):\n",
    "    L = [0]*(m + 1);\n",
    "    L[0] = L_0;\n",
    "    n = len(A_0);\n",
    "    #print(L[0])\n",
    "    \n",
    "    C = [];\n",
    "    for i in range(n):\n",
    "        index = X_0[i].index(L_0[i]);\n",
    "        C.append(X_0[i][:index + 1]);\n",
    "    #print(C);\n",
    "    \n",
    "    welfare = [welfare_h(q, X_0, L[0])];\n",
    "    \n",
    "    for t in range(m):\n",
    "        \n",
    "        #print(L[t]);\n",
    "        #print(h(q, X_0, L[t]));\n",
    "        lambda_t = t^2;\n",
    "        x = L[t].copy();\n",
    "        \n",
    "        V_1 = random.choice(list(range(n)));\n",
    "        V_2 = random.choice(C[V_1]);\n",
    "        size = len(C[V_1]);\n",
    "        x[V_1] = V_2;\n",
    "        #print(\"x = \", x);\n",
    "        \n",
    "        h_1 = welfare_h(q, X_0, L[t]);\n",
    "        #print(\"h_1 = \", h_1);\n",
    "        h_2 = welfare_h(q, X_0, x);\n",
    "        #print(\"h_2 = \", h_2);\n",
    "        \n",
    "        alpha = isProper(A_0, x) * np.exp(lambda_t*h_2)/np.exp(lambda_t*h_1);\n",
    "        #print(\"alpha = \", alpha);\n",
    "        \n",
    "        r = min(1, alpha);\n",
    "        \n",
    "        Q = 1/(n * size);\n",
    "        P = Q*r;\n",
    "        \n",
    "        U = np.random.uniform(0, 1);\n",
    "        \n",
    "        if U < P:\n",
    "            L[t + 1] = x;\n",
    "        else:\n",
    "            L[t + 1] = L[t].copy();\n",
    "        #print(L[t + 1]);\n",
    "        \n",
    "        welfare.append(welfare_h(q, X_0, L[t]));\n",
    "        \n",
    "    \n",
    "    #L_1 = L[m];\n",
    "    \n",
    "            \n",
    "    return L, welfare\n",
    "        \n"
   ]
  },
  {
   "cell_type": "code",
   "execution_count": 856,
   "id": "4d162619",
   "metadata": {},
   "outputs": [
    {
     "name": "stderr",
     "output_type": "stream",
     "text": [
      "/var/folders/ty/glwljgt93kv4cddc7b1kk26c0000gn/T/ipykernel_5067/385648570.py:33: RuntimeWarning: overflow encountered in exp\n",
      "  alpha = isProper(A_0, x) * np.exp(lambda_t*h_2)/np.exp(lambda_t*h_1);\n",
      "/var/folders/ty/glwljgt93kv4cddc7b1kk26c0000gn/T/ipykernel_5067/385648570.py:33: RuntimeWarning: invalid value encountered in double_scalars\n",
      "  alpha = isProper(A_0, x) * np.exp(lambda_t*h_2)/np.exp(lambda_t*h_1);\n"
     ]
    },
    {
     "data": {
      "text/plain": [
       "199"
      ]
     },
     "execution_count": 856,
     "metadata": {},
     "output_type": "execute_result"
    }
   ],
   "source": [
    "random.seed(201);\n",
    "np.random.seed(201);\n",
    "test1 = SA1(A_0, X_0, L_0, q, 200000);\n",
    "assignment1 = test1[0];\n",
    "welfare_1 = test1[1];\n",
    "welfare_1[-1]"
   ]
  },
  {
   "cell_type": "code",
   "execution_count": 857,
   "id": "894013f2",
   "metadata": {},
   "outputs": [
    {
     "data": {
      "text/plain": [
       "217"
      ]
     },
     "execution_count": 857,
     "metadata": {},
     "output_type": "execute_result"
    }
   ],
   "source": [
    "max(welfare_1)"
   ]
  },
  {
   "cell_type": "code",
   "execution_count": 874,
   "id": "28fb0242",
   "metadata": {},
   "outputs": [
    {
     "data": {
      "text/plain": [
       "94156"
      ]
     },
     "execution_count": 874,
     "metadata": {},
     "output_type": "execute_result"
    }
   ],
   "source": [
    "welfare_1.index(217)"
   ]
  },
  {
   "cell_type": "code",
   "execution_count": 871,
   "id": "5c37e753",
   "metadata": {},
   "outputs": [
    {
     "data": {
      "image/png": "[encoded data removed]",
      "text/plain": [
       "<Figure size 432x288 with 1 Axes>"
      ]
     },
     "metadata": {
      "needs_background": "light"
     },
     "output_type": "display_data"
    }
   ],
   "source": [
    "steps1 = list(range(200001));\n",
    "plt.plot(steps1, welfare_1, '-o');\n",
    "plt.xlabel(\"Iteration\");\n",
    "plt.ylabel(\"Payoff\");\n",
    "plt.title(\"SA with lambda = log(1 + t)\");\n",
    "plt.savefig('SA1.png', bbox_inches='tight');\n",
    "plt.show()"
   ]
  },
  {
   "cell_type": "code",
   "execution_count": 865,
   "id": "99160530",
   "metadata": {},
   "outputs": [
    {
     "name": "stderr",
     "output_type": "stream",
     "text": [
      "/var/folders/ty/glwljgt93kv4cddc7b1kk26c0000gn/T/ipykernel_5067/2952451373.py:33: RuntimeWarning: overflow encountered in exp\n",
      "  alpha = isProper(A_0, x) * np.exp(lambda_t*h_2)/np.exp(lambda_t*h_1);\n",
      "/var/folders/ty/glwljgt93kv4cddc7b1kk26c0000gn/T/ipykernel_5067/2952451373.py:33: RuntimeWarning: invalid value encountered in double_scalars\n",
      "  alpha = isProper(A_0, x) * np.exp(lambda_t*h_2)/np.exp(lambda_t*h_1);\n"
     ]
    },
    {
     "data": {
      "text/plain": [
       "183"
      ]
     },
     "execution_count": 865,
     "metadata": {},
     "output_type": "execute_result"
    }
   ],
   "source": [
    "random.seed(210);\n",
    "np.random.seed(210);\n",
    "test2 = SA2(A_0, X_0, L_0, q, 200000);\n",
    "assignment2 = test2[0];\n",
    "welfare_2 = test2[1];\n",
    "welfare_2[200000]"
   ]
  },
  {
   "cell_type": "code",
   "execution_count": 866,
   "id": "43bb886e",
   "metadata": {},
   "outputs": [
    {
     "data": {
      "text/plain": [
       "216"
      ]
     },
     "execution_count": 866,
     "metadata": {},
     "output_type": "execute_result"
    }
   ],
   "source": [
    "max(welfare_2)"
   ]
  },
  {
   "cell_type": "code",
   "execution_count": 876,
   "id": "64b8a895",
   "metadata": {},
   "outputs": [
    {
     "data": {
      "text/plain": [
       "179632"
      ]
     },
     "execution_count": 876,
     "metadata": {},
     "output_type": "execute_result"
    }
   ],
   "source": [
    "welfare_2.index(216)"
   ]
  },
  {
   "cell_type": "code",
   "execution_count": 872,
   "id": "f427e5e7",
   "metadata": {},
   "outputs": [
    {
     "data": {
      "image/png": "[encoded data removed]",
      "text/plain": [
       "<Figure size 432x288 with 1 Axes>"
      ]
     },
     "metadata": {
      "needs_background": "light"
     },
     "output_type": "display_data"
    }
   ],
   "source": [
    "steps2 = list(range(200001));\n",
    "plt.plot(steps2, welfare_2, '-o');\n",
    "plt.xlabel(\"Iteration\");\n",
    "plt.ylabel(\"Payoff\");\n",
    "plt.title(\"SA with lambda = t\");\n",
    "plt.savefig('SA2.png', bbox_inches='tight');\n",
    "plt.show()"
   ]
  },
  {
   "cell_type": "code",
   "execution_count": 859,
   "id": "1e891656",
   "metadata": {},
   "outputs": [
    {
     "name": "stderr",
     "output_type": "stream",
     "text": [
      "/var/folders/ty/glwljgt93kv4cddc7b1kk26c0000gn/T/ipykernel_5067/2868471363.py:33: RuntimeWarning: overflow encountered in exp\n",
      "  alpha = isProper(A_0, x) * np.exp(lambda_t*h_2)/np.exp(lambda_t*h_1);\n",
      "/var/folders/ty/glwljgt93kv4cddc7b1kk26c0000gn/T/ipykernel_5067/2868471363.py:33: RuntimeWarning: invalid value encountered in double_scalars\n",
      "  alpha = isProper(A_0, x) * np.exp(lambda_t*h_2)/np.exp(lambda_t*h_1);\n"
     ]
    },
    {
     "data": {
      "text/plain": [
       "192"
      ]
     },
     "execution_count": 859,
     "metadata": {},
     "output_type": "execute_result"
    }
   ],
   "source": [
    "random.seed(203);\n",
    "np.random.seed(203);\n",
    "test3 = SA3(A_0, X_0, L_0, q, 200000);\n",
    "assignment3 = test3[0];\n",
    "welfare_3 = test3[1];\n",
    "welfare_3[200000]"
   ]
  },
  {
   "cell_type": "code",
   "execution_count": 860,
   "id": "d6daf486",
   "metadata": {},
   "outputs": [
    {
     "data": {
      "text/plain": [
       "214"
      ]
     },
     "execution_count": 860,
     "metadata": {},
     "output_type": "execute_result"
    }
   ],
   "source": [
    "max(welfare_3)"
   ]
  },
  {
   "cell_type": "code",
   "execution_count": 877,
   "id": "e674c7cb",
   "metadata": {},
   "outputs": [
    {
     "data": {
      "text/plain": [
       "183118"
      ]
     },
     "execution_count": 877,
     "metadata": {},
     "output_type": "execute_result"
    }
   ],
   "source": [
    "welfare_3.index(214)"
   ]
  },
  {
   "cell_type": "code",
   "execution_count": 873,
   "id": "2370a743",
   "metadata": {},
   "outputs": [
    {
     "data": {
      "image/png": "[encoded data removed]",
      "text/plain": [
       "<Figure size 432x288 with 1 Axes>"
      ]
     },
     "metadata": {
      "needs_background": "light"
     },
     "output_type": "display_data"
    }
   ],
   "source": [
    "steps3 = list(range(200001));\n",
    "plt.plot(steps3, welfare_3, '-o');\n",
    "plt.xlabel(\"Iteration\");\n",
    "plt.ylabel(\"Payoff\");\n",
    "plt.title(\"SA with lambda = t^2\");\n",
    "plt.savefig('SA3.png', bbox_inches='tight');\n",
    "plt.show()"
   ]
  }
 ],
 "metadata": {
  "kernelspec": {
   "display_name": "Python 3 (ipykernel)",
   "language": "python",
   "name": "python3"
  },
  "language_info": {
   "codemirror_mode": {
    "name": "ipython",
    "version": 3
   },
   "file_extension": ".py",
   "mimetype": "text/x-python",
   "name": "python",
   "nbconvert_exporter": "python",
   "pygments_lexer": "ipython3",
   "version": "3.9.7"
  }
 },
 "nbformat": 4,
 "nbformat_minor": 5
}
