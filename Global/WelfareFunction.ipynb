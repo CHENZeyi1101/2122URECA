{
 "cells": [
  {
   "cell_type": "code",
   "execution_count": null,
   "id": "5f089107",
   "metadata": {},
   "outputs": [],
   "source": [
    "import numpy.matlib;\n",
    "import numpy as np;\n",
    "import networkx as nx;\n",
    "import matplotlib.pyplot as plt;\n",
    "import random\n",
    "import copy\n",
    "import math"
   ]
  },
  {
   "cell_type": "code",
   "execution_count": null,
   "id": "dd8e0cfa",
   "metadata": {},
   "outputs": [],
   "source": [
    "def welfare_h(q, X, L):\n",
    "    n = len(L);\n",
    "    idx = 0;\n",
    "    for k in range(n):\n",
    "        idx = idx + X[k].index(L[k]);\n",
    "    welfare = (q - 1)*n - idx;\n",
    "    \n",
    "    return welfare"
   ]
  }
 ],
 "metadata": {
  "kernelspec": {
   "display_name": "Python 3 (ipykernel)",
   "language": "python",
   "name": "python3"
  },
  "language_info": {
   "codemirror_mode": {
    "name": "ipython",
    "version": 3
   },
   "file_extension": ".py",
   "mimetype": "text/x-python",
   "name": "python",
   "nbconvert_exporter": "python",
   "pygments_lexer": "ipython3",
   "version": "3.9.7"
  }
 },
 "nbformat": 4,
 "nbformat_minor": 5
}
